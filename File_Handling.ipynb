{
  "nbformat": 4,
  "nbformat_minor": 0,
  "metadata": {
    "colab": {
      "provenance": []
    },
    "kernelspec": {
      "name": "python3",
      "display_name": "Python 3"
    },
    "language_info": {
      "name": "python"
    }
  },
  "cells": [
    {
      "cell_type": "markdown",
      "source": [
        "## **Files, exceptional handling, logging and**\n",
        "# **memory management Questions**"
      ],
      "metadata": {
        "id": "SSgfHvfF-RAw"
      }
    },
    {
      "cell_type": "markdown",
      "source": [
        "1. What is the difference between interpreted and compiled languages?\n",
        "- Interpreted Languages:\n",
        "- Definition: An interpreted language is one where the source code is executed line-by-line by an interpreter at runtime, without a prior compilation phase.\n",
        "- Process:\n",
        "The interpreter reads the source code, processes it line-by-line, and immediately executes it.\n",
        "The program is interpreted during execution.\n",
        "Errors are caught at runtime.\n",
        "\n",
        "\n",
        "- Advantages:\n",
        "Ease of debugging, test and modify parts of the program can be done quickly without the need for recompilation.\n",
        "Platform independence: As long as the interpreter is available, the same source code can be run on different systems without modification.\n",
        "No need for an explicit compilation step.\n",
        "\n",
        "- Disadvantages:\n",
        "Slower execution because the interpreter translates code on the fly, line-by-line.\n",
        "Can use more memory since the interpreter is running.\n",
        "\n",
        "- Example:Python, JavaScript, Ruby, PHP\n",
        "\n",
        "- Compiled Languages:\n",
        "-Definition: A compiled language is one where the entire source code is translated into machine code (binary) by a compiler before it can be executed.\n",
        "\n",
        "- Process:\n",
        "The compiler reads the entire source code, converts it into machine code (often in the form of an executable file), and then the program can be run.\n",
        "The compilation happens before execution.\tErrors are caught during compilation.\n",
        "\n",
        "- Advantages:\n",
        "Faster execution since the program is already converted into machine code.\n",
        "The compiled code can be run without needing the original source code.\n",
        "Optimization is possible during compilation, leading to efficient code.\n",
        "\n",
        "- Disadvantages:\n",
        "Compilation time: The compilation process can take time before running.\n",
        "Platform dependency: The compiled code might be specific to a particular operating system or architecture (unless it's compiled for multiple platforms).\tTypically uses less memory at runtime.\n",
        "\n",
        "- Example:C, C++, Rust, Go\n",
        "\n",
        "\n",
        "\n",
        "\n"
      ],
      "metadata": {
        "id": "ohOAamA8-kYq"
      }
    },
    {
      "cell_type": "markdown",
      "source": [
        "2.  What is exception handling in Python?\n",
        "- Exception handling in Python is a mechanism that allows you to detect and manage errors that occur during program execution, without crashing the entire program.\n",
        "\n",
        "- An exception is an error that occurs during the execution of a program, such as:\n",
        "Division by zero,\n",
        "File not found,\n",
        "Invalid input,\n",
        "Network connection error,\n",
        "Without handling, these errors will cause the program to stop.\n",
        "- exception handling used to:\n",
        "Prevent the program from crashing,\n",
        "Show meaningful error messages,\n",
        "Handle different error types in a controlled way.\n",
        "- Common exception types:\n",
        "ZeroDivisionError,\n",
        "FileNotFoundError,\n",
        "ValueError,\n",
        "TypeError,\n",
        "IndexError."
      ],
      "metadata": {
        "id": "cYQIaD3t_L8E"
      }
    },
    {
      "cell_type": "code",
      "source": [
        "try:\n",
        "    num = int(input(\"Enter a number: 15\"))\n",
        "    print(10 / num)\n",
        "except ValueError:\n",
        "    print(\"Please enter a valid integer.\")\n",
        "except ZeroDivisionError:\n",
        "    print(\"Cannot divide by zero.\")\n"
      ],
      "metadata": {
        "colab": {
          "base_uri": "https://localhost:8080/"
        },
        "id": "YVKmV73EZZ0P",
        "outputId": "babb3321-0c2d-4cea-d0f4-461ba5461f18"
      },
      "execution_count": null,
      "outputs": [
        {
          "output_type": "stream",
          "name": "stdout",
          "text": [
            "Enter a number: 155\n",
            "2.0\n"
          ]
        }
      ]
    },
    {
      "cell_type": "markdown",
      "source": [
        "3. What is the purpose of the finally block in exception handling?\n",
        "- The finally block in Python is used to execute code no matter what — whether an exception occurs or not.\n",
        "\n",
        "- To guarantee cleanup actions (like closing a file, releasing resources, disconnecting from a database, etc.)\n",
        "\n",
        "- It ensures that important code runs even if an error occurs or if you use return, break, or continue in the try or except blocks.\n",
        "- Use case: Closing a file,\n",
        "Disconnecting from a database,\n",
        "Releasing system resources,\n",
        "Logging an action."
      ],
      "metadata": {
        "id": "0_sRRQNq-k-A"
      }
    },
    {
      "cell_type": "code",
      "source": [
        "try:\n",
        "    x = 1 / 0\n",
        "except ZeroDivisionError:\n",
        "    print(\"Division by zero error!\")\n",
        "finally:\n",
        "    print(\"This runs no matter what.\")\n"
      ],
      "metadata": {
        "colab": {
          "base_uri": "https://localhost:8080/"
        },
        "id": "jRwfHOKFaqHX",
        "outputId": "bfce2073-08be-49b0-9082-8c6740455452"
      },
      "execution_count": null,
      "outputs": [
        {
          "output_type": "stream",
          "name": "stdout",
          "text": [
            "Division by zero error!\n",
            "This runs no matter what.\n"
          ]
        }
      ]
    },
    {
      "cell_type": "markdown",
      "source": [
        "4. What is logging in Python?\n",
        "- Logging in Python is the process of recording messages that describe events or errors that occur during a program’s execution.\n",
        "\n",
        "- Instead of using print() for debugging or tracking, Python's logging module allows to:\n",
        "Save logs to a file,\n",
        "Set levels of severity (e.g., INFO, WARNING, ERROR),\n",
        "Include timestamps, line numbers, and more.\n",
        "- lOGGING:\n",
        "For structured, long-term tracking, \tIdeal for debugging, monitoring, etc, Can categorize messages by importance\n",
        "- Log Levels in Python:\n",
        "\n",
        "DEBUG--Detailed info for diagnosing problems.\n",
        "\n",
        "INFO--General events (e.g., start/end of tasks)\n",
        "\n",
        "WARNING--Something unexpected happened\n",
        "\n",
        "ERROR--A serious problem occurred\n",
        "\n",
        "CRITICAL--Very serious error, program may crash\n"
      ],
      "metadata": {
        "id": "Izq8LLAj-lPD"
      }
    },
    {
      "cell_type": "code",
      "source": [
        "import logging\n",
        "\n",
        "logging.basicConfig(\n",
        "    filename='app.log',\n",
        "    level=logging.DEBUG,\n",
        "    format='%(asctime)s - %(levelname)s - %(message)s'\n",
        ")\n",
        "\n",
        "logging.info(\"Program started.\")\n",
        "logging.warning(\"This is a warning.\")\n",
        "logging.error(\"An error occurred.\")\n"
      ],
      "metadata": {
        "colab": {
          "base_uri": "https://localhost:8080/"
        },
        "id": "A7oNI7lex-pK",
        "outputId": "f53b827f-a352-4c8b-95af-927258a8f0fd"
      },
      "execution_count": null,
      "outputs": [
        {
          "output_type": "stream",
          "name": "stderr",
          "text": [
            "WARNING:root:This is a warning.\n",
            "ERROR:root:An error occurred.\n"
          ]
        }
      ]
    },
    {
      "cell_type": "markdown",
      "source": [
        "5. What is the significance of the __del__ method in Python?\n",
        "- The __del__ method in Python is a destructor — it’s called automatically when an object is about to be destroyed\n",
        "To clean up resources used by an object before it’s deleted, such as:\n",
        "Closing files,\n",
        "Releasing network or database connections,\n",
        "Logging object deletion.\n",
        "\n"
      ],
      "metadata": {
        "id": "BFqqW3p3_fwh"
      }
    },
    {
      "cell_type": "code",
      "source": [
        "class FileHandler:\n",
        "    def __init__(self, filename):\n",
        "        self.file = open(filename, 'w')\n",
        "        print(\"File opened.\")\n",
        "\n",
        "    def __del__(self):\n",
        "        self.file.close()\n",
        "        print(\"File closed.\")\n",
        "\n",
        "handler = FileHandler(\"example.txt\")\n",
        "del handler\n"
      ],
      "metadata": {
        "colab": {
          "base_uri": "https://localhost:8080/"
        },
        "id": "NIE5M4cyzWbX",
        "outputId": "030264bc-3699-43ae-dae9-85a34ff5d426"
      },
      "execution_count": null,
      "outputs": [
        {
          "output_type": "stream",
          "name": "stdout",
          "text": [
            "File opened.\n",
            "File closed.\n"
          ]
        }
      ]
    },
    {
      "cell_type": "markdown",
      "source": [
        "6. What is the difference between import and from ... import in Python?\n",
        "- Both are used to include external modules in your Python code, but they behave differently in how they bring in names.\n",
        "\n",
        "- 1. import module\n",
        "This imports the entire module. Use the module name to access its functions or variables.\n",
        "- When to use:\n",
        "When we want to avoid name conflicts.\n",
        "When we want to be clear about where each function comes from.\n",
        "- 2. from module import name\n",
        "This imports specific items (functions, variables, classes) directly from a module into your namespace.\n",
        "\n",
        "-  When to use:\n",
        "When you only need a few items from a module.\n",
        "For shorter, cleaner code."
      ],
      "metadata": {
        "id": "I_hPWemk_gWu"
      }
    },
    {
      "cell_type": "code",
      "source": [
        "import math\n",
        "\n",
        "print(math.sqrt(16))\n"
      ],
      "metadata": {
        "colab": {
          "base_uri": "https://localhost:8080/"
        },
        "id": "YLSayPZUoJ3n",
        "outputId": "a4864536-dc8a-4812-e145-b65e8e2c4a52"
      },
      "execution_count": null,
      "outputs": [
        {
          "output_type": "stream",
          "name": "stdout",
          "text": [
            "4.0\n"
          ]
        }
      ]
    },
    {
      "cell_type": "code",
      "source": [
        "from math import sqrt\n",
        "\n",
        "print(sqrt(16))\n"
      ],
      "metadata": {
        "colab": {
          "base_uri": "https://localhost:8080/"
        },
        "id": "N92T-aJRoNda",
        "outputId": "63bf1838-3b75-416a-bc08-5a81e4e416ed"
      },
      "execution_count": null,
      "outputs": [
        {
          "output_type": "stream",
          "name": "stdout",
          "text": [
            "4.0\n"
          ]
        }
      ]
    },
    {
      "cell_type": "markdown",
      "source": [
        "7. How can you handle multiple exceptions in Python?\n",
        "- Python allows to handle multiple exceptions using several techniques depending on your needs.\n",
        "- Method 1: Multiple except Blocks (Best for specific handling): This method allows to handle each exception differently.\n",
        "- Method 2: Single except Block for Multiple Exceptions: Good when we want to treat several errors the same way.\n",
        "- Method 3: Catch All Other Exceptions: Use this for logging or debugging, but avoid overusing it — it can hide bugs.\n",
        "\n",
        "\n",
        "\n",
        "\n",
        "\n",
        "\n",
        "\n",
        "\n",
        "\n"
      ],
      "metadata": {
        "id": "zYbJubI__gvz"
      }
    },
    {
      "cell_type": "code",
      "source": [
        "try:\n",
        "    x = int(\"abc\")\n",
        "    result = 10 / x\n",
        "\n",
        "except ValueError:\n",
        "    print(\"ValueError: Invalid input! Please enter a number 10.\")\n",
        "\n",
        "except ZeroDivisionError:\n",
        "    print(\"ZeroDivisionError: Cannot divide by zero.\")\n"
      ],
      "metadata": {
        "colab": {
          "base_uri": "https://localhost:8080/"
        },
        "id": "l517cvYxxymP",
        "outputId": "92fe2582-2ebf-4764-cd0a-ebdb754a78fc"
      },
      "execution_count": 48,
      "outputs": [
        {
          "output_type": "stream",
          "name": "stdout",
          "text": [
            "ValueError: Invalid input! Please enter a number 10.\n"
          ]
        }
      ]
    },
    {
      "cell_type": "code",
      "source": [
        "try:\n",
        "    x = int(\"abc\")\n",
        "    result = 10 / x\n",
        "\n",
        "except (ValueError, ZeroDivisionError) as e:\n",
        "    print(f\" Error occurred: {e}\")\n"
      ],
      "metadata": {
        "colab": {
          "base_uri": "https://localhost:8080/"
        },
        "id": "UbQW5dTSx9OK",
        "outputId": "a2c8f071-1f0e-4a16-c527-be1542636dce"
      },
      "execution_count": 49,
      "outputs": [
        {
          "output_type": "stream",
          "name": "stdout",
          "text": [
            " Error occurred: invalid literal for int() with base 10: 'abc'\n"
          ]
        }
      ]
    },
    {
      "cell_type": "code",
      "source": [
        "try:\n",
        "    x = int(\"abc\")\n",
        "    result = 10 / x\n",
        "\n",
        "except Exception as e:\n",
        "    print(f\"Caught a general exception: {e}\")\n"
      ],
      "metadata": {
        "colab": {
          "base_uri": "https://localhost:8080/"
        },
        "id": "W9eJ-KmQyE9C",
        "outputId": "4dbabe58-3e79-4cd3-d200-3dd150ce8454"
      },
      "execution_count": 50,
      "outputs": [
        {
          "output_type": "stream",
          "name": "stdout",
          "text": [
            "Caught a general exception: invalid literal for int() with base 10: 'abc'\n"
          ]
        }
      ]
    },
    {
      "cell_type": "markdown",
      "source": [
        "8. What is the purpose of the with statement when handling files in Python?\n",
        "- The with statement in Python is used to manage resources like file objects safely and efficiently.\n",
        "\n",
        "- To automatically handle opening and closing a file, even if an error occurs.\n",
        "It simplifies file handling and reduces the risk of forgetting to close a file.\n",
        "- Automatic cleanup-Closes file even if an exception occurs\n",
        "- Cleaner code- No need to call file.close()\n",
        "- REduces bugs- \tPrevents resource leaks\n",
        "- Works with other resources- Like databases, sockets, and locks\n"
      ],
      "metadata": {
        "id": "rkKqNgZU_hKj"
      }
    },
    {
      "cell_type": "code",
      "source": [
        "file_path = r\"C:/Users/Avinash/Downloads/example.txt\"\n",
        "import os\n",
        "if os.path.exists(file_path):\n",
        "    with open(file_path, 'r') as file:\n",
        "        content = file.read()\n",
        "    print(content)\n",
        "else:\n",
        "    print(f\"Error: The file '{file_path}' was not found.\")"
      ],
      "metadata": {
        "colab": {
          "base_uri": "https://localhost:8080/"
        },
        "id": "wdquuqFaq6je",
        "outputId": "f54ccbe5-297b-43f6-9237-bf6360ba8a8d"
      },
      "execution_count": 42,
      "outputs": [
        {
          "output_type": "stream",
          "name": "stdout",
          "text": [
            "Error: The file 'C:/Users/Avinash/Downloads/example.txt' was not found.\n"
          ]
        }
      ]
    },
    {
      "cell_type": "markdown",
      "source": [
        "9. What is the difference between multithreading and multiprocessing?\n",
        "- Both multithreading and multiprocessing are techniques used to perform tasks concurrently, but they differ in how they use system resources and manage execution.\n",
        "- Multithreading\n",
        "Definition: Running multiple threads (smaller units of a process) within the same process.\n",
        "\n",
        "- Best for: I/O-bound tasks (e.g., file reading, web requests)\n",
        "\n",
        "- Shares memory between threads\n",
        "\n",
        "- Limited by Python’s Global Interpreter Lock (GIL)\n",
        "- Example use case:\n",
        "Reading multiple files,\n",
        "Downloading multiple web pages.\n",
        "\n",
        "-  Multiprocessing\n",
        "Definition: Running multiple separate processes, each with its own memory space.\n",
        "\n",
        "- Best for: CPU-bound tasks (e.g., heavy calculations)\n",
        "\n",
        "- Bypasses GIL (true parallelism)\n",
        "\n",
        "- More memory and startup overhead than threads\n",
        "- Example use case:\n",
        "Image or video processing,\n",
        "Data analysis or mathematical simulations.\n",
        "\n"
      ],
      "metadata": {
        "id": "tuQWM1aI_hpB"
      }
    },
    {
      "cell_type": "code",
      "source": [
        "import threading\n",
        "\n",
        "def task():\n",
        "    print(\"Running in a thread\")\n",
        "\n",
        "thread = threading.Thread(target=task)\n",
        "thread.start()\n"
      ],
      "metadata": {
        "colab": {
          "base_uri": "https://localhost:8080/"
        },
        "id": "lsApnf3Aw0JC",
        "outputId": "566f440b-983b-4df6-9c0f-43f3a5cff802"
      },
      "execution_count": 43,
      "outputs": [
        {
          "output_type": "stream",
          "name": "stdout",
          "text": [
            "Running in a thread\n"
          ]
        }
      ]
    },
    {
      "cell_type": "code",
      "source": [
        "import multiprocessing\n",
        "\n",
        "def task():\n",
        "    print(\"Running in a process\")\n",
        "\n",
        "process = multiprocessing.Process(target=task)\n",
        "process.start()\n"
      ],
      "metadata": {
        "colab": {
          "base_uri": "https://localhost:8080/"
        },
        "id": "ismYX_rwxAaT",
        "outputId": "04993ed3-7b14-4f4f-becd-942d9788c57a"
      },
      "execution_count": 45,
      "outputs": [
        {
          "output_type": "stream",
          "name": "stdout",
          "text": [
            "Running in a process\n"
          ]
        }
      ]
    },
    {
      "cell_type": "markdown",
      "source": [
        "10. What are the advantages of using logging in a program?\n",
        "- Advantages of Using Logging in a Python Program\n",
        "Logging provides a flexible, powerful way to track what your code is doing — especially useful for debugging, monitoring, and maintenance.\n",
        "- Why Use Logging Instead of print()?\n",
        "Unlike print(), logging:\n",
        "Can be turned on or off,\n",
        "Can be written to files,\n",
        "Supports different severity levels,\n",
        "Is useful in production environments.\n",
        "- Tracks program execution:Helps understand what the program is doing step by step.\n",
        "- Error diagnostics:Captures exceptions and problems without crashing the program.\n",
        "- Writes to files or systems:Logs can be saved to files, databases, or remote servers.\n",
        "- Non-intrusive:\tCan be used without interfering with the normal output of the program.\n",
        "- Severity levels:Allows filtering messages by importance: DEBUG, INFO, WARNING, ERROR,CRITICAL.\n",
        "- Easier maintenance:Helps developers diagnose issues without reproducing them.\n",
        "- Debugging long-running code:Useful for programs running in background or on servers.\n",
        "\n",
        "\n"
      ],
      "metadata": {
        "id": "d2hQirJM_-Op"
      }
    },
    {
      "cell_type": "code",
      "source": [
        "import logging\n",
        "\n",
        "logging.basicConfig(filename='app.log', level=logging.INFO)\n",
        "\n",
        "logging.info(\"Program started\")\n",
        "logging.warning(\"This is a warning\")\n",
        "logging.error(\"An error occurred\")\n"
      ],
      "metadata": {
        "colab": {
          "base_uri": "https://localhost:8080/"
        },
        "id": "0uyLvMqqyk47",
        "outputId": "254eaec8-29d0-4936-bbf3-da76a923be58"
      },
      "execution_count": 51,
      "outputs": [
        {
          "output_type": "stream",
          "name": "stderr",
          "text": [
            "WARNING:root:This is a warning\n",
            "ERROR:root:An error occurred\n"
          ]
        }
      ]
    },
    {
      "cell_type": "markdown",
      "source": [
        "11. What is memory management in Python?\n",
        "-  Memory management in Python refers to how the language allocates, uses, and frees memory during the execution of a program.\n",
        "\n",
        "- Python handles memory automatically, but understanding how it works helps you write more efficient and reliable code.\n",
        "- 1. Automatic Garbage Collection\n",
        "Python uses a built-in garbage collector to remove objects that are no longer in use.\n",
        "Based on reference counting and a cyclic garbage collector.\n",
        "Prevents memory leaks by cleaning up unused variables.\n",
        "- 2. Reference Counting\n",
        "Each object keeps track of how many references point to it.\n",
        "When the count goes to zero, memory is released automatically.\n",
        "- 3. Private Heap Space\n",
        "All Python objects and data structures are stored in a private heap.\n",
        "Managed internally by the Python interpreter, not directly accessible by the user.\n",
        "- 4. Memory Pools (PyMalloc)\n",
        "Python uses a specialized allocator called PyMalloc to manage small memory requests efficiently.\n",
        "\n",
        "- 5. Dynamic Typing\n",
        "Memory is allocated dynamically based on the type and size of the object.\n",
        "- Python manages memory automatically so developers don’t have to manually allocate and free memory, as in C or C++.\n",
        "However, understanding memory management helps optimize performance, avoid memory leaks, and debug issues more effectively.\n",
        "\n",
        "\n",
        "\n",
        "\n",
        "\n",
        "\n"
      ],
      "metadata": {
        "id": "XDQI_2b8_-jJ"
      }
    },
    {
      "cell_type": "markdown",
      "source": [
        "12. What are the basic steps involved in exception handling in Python?\n",
        "- The basic steps for handling exceptions in Python are:\n",
        "\n",
        "- 1.Try Block\n",
        "Write the code that might raise an exception inside the try block.\n",
        "\n",
        "- 2.Except Block(s)\n",
        "Handle specific exceptions with one or more except blocks. Each block specifies the type of exception it can catch.\n",
        "\n",
        "- 3.Else Block (Optional)\n",
        "Code inside the else block runs only if no exceptions were raised in the try block.\n",
        "\n",
        "- 4.Finally Block (Optional)\n",
        "The finally block contains code that will always execute, regardless of whether an exception occurred or not (e.g., closing resources).\n",
        "- Uses: Use try to wrap risky code.\n",
        "Use except to catch and handle errors.\n",
        "Use else for code that runs if no errors happen.\n",
        "Use finally for cleanup code that must run no matter what."
      ],
      "metadata": {
        "id": "c2F_Unxp_-13"
      }
    },
    {
      "cell_type": "markdown",
      "source": [
        "13. Why is memory management important in Python?\n",
        "- Memory management is crucial in Python (and all programming languages) because it directly affects:\n",
        "\n",
        "- 1.Performance:Efficient memory usage ensures your program runs faster and uses fewer system resources.\n",
        "\n",
        "- 2.Avoiding Memory Leaks:Proper management helps prevent memory leaks, where memory is consumed but never released, which can cause your program to crash or slow down over time.\n",
        "\n",
        "- 3.Resource Optimization:Especially important in large applications or when working with big data, good memory management helps optimize how much RAM your program needs.\n",
        "\n",
        "- 4.Automatic Garbage Collection:Python uses automatic memory management via its garbage collector, which frees unused memory. Understanding this helps you write better, more memory-efficient code.\n",
        "\n",
        "- 5.Stability and Scalability:Proper memory management helps programs remain stable under load and scale well as they grow in complexity or handle more data."
      ],
      "metadata": {
        "id": "HmrImGfk__S6"
      }
    },
    {
      "cell_type": "markdown",
      "source": [
        "14. What is the role of try and except in exception handling?\n",
        "- try block:\n",
        "Contains the code that might raise an exception. Python executes this code and watches for errors.\n",
        "\n",
        "- except block:\n",
        "Catches and handles exceptions that occur in the try block. You can specify particular exception types to handle or catch all exceptions generally.\n",
        "\n",
        "- How they work together:\n",
        "Python runs the code inside try.\n",
        "If an exception occurs, it immediately stops executing the try block.\n",
        "Python looks for an except block matching the exception type.\n",
        "If found, it runs the code inside the except block to handle the error gracefully.\n",
        "If no exception occurs, the except block is skipped.\n",
        "\n",
        "\n",
        "\n"
      ],
      "metadata": {
        "id": "uAF2DP_m__pK"
      }
    },
    {
      "cell_type": "code",
      "source": [
        "try:\n",
        "    result = 10 / 0\n",
        "except ZeroDivisionError:\n",
        "    print(\"Cannot divide by zero!\")\n"
      ],
      "metadata": {
        "colab": {
          "base_uri": "https://localhost:8080/"
        },
        "id": "CvcEzLC154Uf",
        "outputId": "03a930cc-e667-4722-ab48-f9052e9f4d24"
      },
      "execution_count": 69,
      "outputs": [
        {
          "output_type": "stream",
          "name": "stdout",
          "text": [
            "Cannot divide by zero!\n"
          ]
        }
      ]
    },
    {
      "cell_type": "markdown",
      "source": [
        "15. How does Python's garbage collection system work?\n",
        "- Python’s garbage collection (GC) system automatically manages memory by reclaiming space taken up by objects that are no longer needed, helping to prevent memory leaks.\n",
        "- Python uses reference counting as the primary memory management strategy.\n",
        "- It supplements with a cyclic garbage collector to detect and clean up reference cycles.\n",
        "- This automatic system frees programmers from manual memory management in most cases.\n",
        "\n",
        "- Python’s Garbage Collection Works:\n",
        "- 1.Reference Counting:\n",
        "Every Python object keeps track of the number of references pointing to it (reference count).\n",
        "When an object’s reference count drops to zero (no references left), Python immediately frees the memory.\n",
        "- 2.Garbage Collector for Cyclic References:\n",
        "Reference counting alone can't handle reference cycles (objects referencing each other).\n",
        "Python’s gc module detects groups of objects involved in reference cycles and frees them.\n",
        "The garbage collector runs periodically or can be triggered manually.\n",
        "\n",
        "- 3.Generations:\n",
        "Python organizes objects into generations based on their lifespan.\n",
        "Younger objects are collected more frequently; older objects less often.\n",
        "This generational approach improves performance by focusing on objects more likely to be garbage."
      ],
      "metadata": {
        "id": "yHY2wYAx__93"
      }
    },
    {
      "cell_type": "markdown",
      "source": [
        "16. What is the purpose of the else block in exception  handling?\n",
        "- The else block in Python's exception handling is used to specify a block of code that runs only if no exception was raised in the corresponding try block.\n",
        "\n",
        "- It runs only if the try block succeeds without any exceptions.\n",
        "\n",
        "- It helps separate the normal execution path from the exception handling logic.\n",
        "\n",
        "- It's useful when you want to run some code that should only execute if the try block didn’t raise an error.\n",
        "\n",
        "- If an exception occurs, the else block is skipped."
      ],
      "metadata": {
        "id": "uDn2u_K7AAZK"
      }
    },
    {
      "cell_type": "code",
      "source": [
        "try:\n",
        "    number = int(input(\"Enter a number: \"))\n",
        "except ValueError:\n",
        "    print(\"That was not a valid number.\")\n",
        "else:\n",
        "    print(f\"You entered the number {number}.\")\n"
      ],
      "metadata": {
        "colab": {
          "base_uri": "https://localhost:8080/"
        },
        "id": "pGWARGTa4-as",
        "outputId": "9d19378a-5c41-4446-fbb5-4e50cc484a8c"
      },
      "execution_count": 68,
      "outputs": [
        {
          "output_type": "stream",
          "name": "stdout",
          "text": [
            "Enter a number: 5\n",
            "You entered the number 5.\n"
          ]
        }
      ]
    },
    {
      "cell_type": "markdown",
      "source": [
        "17. What are the common logging levels in Python?\n",
        "- Python’s logging module provides several standard logging levels to indicate the severity of events. Common Logging Levels in Python (from highest to lowest severity):\n",
        "\n",
        "- CRITICAL (50):\n",
        "Indicates a very serious error that may cause the program to stop running or crash. This is the highest severity level.\n",
        "- ERROR (40):\n",
        "Represents a serious problem that prevents some part of the program from functioning correctly.\n",
        "- WARNING (30):\n",
        "Signals something unexpected or a potential issue that doesn’t stop the program but might need attention.\n",
        "\n",
        "- INFO (20):\n",
        "Provides general information about the program’s normal operations to confirm things are working as expected.\n",
        "- DEBUG (10):\n",
        "Offers detailed diagnostic information useful for developers to troubleshoot and understand the program flow.\n"
      ],
      "metadata": {
        "id": "I6AgQNS6AkBt"
      }
    },
    {
      "cell_type": "code",
      "source": [
        "import logging\n",
        "\n",
        "logging.basicConfig(level=logging.DEBUG)\n",
        "\n",
        "logging.debug(\"Debugging details\")\n",
        "logging.info(\"Informational message\")\n",
        "logging.warning(\"Warning: something might be wrong\")\n",
        "logging.error(\"Error encountered\")\n",
        "logging.critical(\"Critical issue!\")\n"
      ],
      "metadata": {
        "colab": {
          "base_uri": "https://localhost:8080/"
        },
        "id": "Y-yDPYeP7Arl",
        "outputId": "01586f80-6769-42b5-a0be-178def98c800"
      },
      "execution_count": 70,
      "outputs": [
        {
          "output_type": "stream",
          "name": "stderr",
          "text": [
            "WARNING:root:Warning: something might be wrong\n",
            "ERROR:root:Error encountered\n",
            "CRITICAL:root:Critical issue!\n"
          ]
        }
      ]
    },
    {
      "cell_type": "markdown",
      "source": [
        "18. What is the difference between os.fork() and multiprocessing in Python?\n",
        "- 1. os.fork()\n",
        "- What it is:\n",
        "A low-level system call available on Unix-like operating systems that creates a new child process by duplicating the current process.\n",
        "\n",
        "- How it works:\n",
        "The process calling os.fork() is split into two: the parent and the child. Both continue running independently.\n",
        "\n",
        "- points:\n",
        "Available only on Unix/Linux/macOS (not on Windows).\n",
        "Child process inherits the memory of the parent (copy-on-write).\n",
        "Requires manual management of inter-process communication (IPC).\n",
        "More “bare-metal,” less Python-friendly.\n",
        "\n",
        "- 2. multiprocessing module\n",
        "- What it is:\n",
        "A high-level Python module that allows you to create and manage processes, with support for cross-platform compatibility (Windows, macOS, Linux).\n",
        "\n",
        "- How it works:\n",
        "It creates separate processes that run Python code independently and provides convenient mechanisms for IPC like queues and pipes.\n",
        "\n",
        "- points:\n",
        "Works on all major platforms (including Windows).\n",
        "Provides easy-to-use API to spawn processes, manage them, and share data.\n",
        "Supports process pools, shared memory, and synchronization primitives.\n",
        "Integrates well with Python’s object-oriented design."
      ],
      "metadata": {
        "id": "xCjCvxvMFY0P"
      }
    },
    {
      "cell_type": "code",
      "source": [
        "import os\n",
        "\n",
        "pid = os.fork()\n",
        "if pid == 0:\n",
        "    print(\"This is the child process\")\n",
        "else:\n",
        "    print(\"This is the parent process\")\n"
      ],
      "metadata": {
        "colab": {
          "base_uri": "https://localhost:8080/"
        },
        "id": "ZFXYJPTs7c1v",
        "outputId": "66a7d249-0f8b-47e1-98f6-e47680bacb6e"
      },
      "execution_count": 71,
      "outputs": [
        {
          "output_type": "stream",
          "name": "stdout",
          "text": [
            "This is the parent process\n",
            "This is the child process\n"
          ]
        }
      ]
    },
    {
      "cell_type": "code",
      "source": [
        "from multiprocessing import Process\n",
        "\n",
        "def worker():\n",
        "    print(\"Worker process\")\n",
        "\n",
        "if __name__ == '__main__':\n",
        "    p = Process(target=worker)\n",
        "    p.start()\n",
        "    p.join()\n"
      ],
      "metadata": {
        "colab": {
          "base_uri": "https://localhost:8080/"
        },
        "id": "by_OnFW18GFy",
        "outputId": "f2a6ac00-80e8-41af-a429-67e6a2aa2dd2"
      },
      "execution_count": 1,
      "outputs": [
        {
          "output_type": "stream",
          "name": "stdout",
          "text": [
            "Worker process\n"
          ]
        }
      ]
    },
    {
      "cell_type": "markdown",
      "source": [
        "19. What is the importance of closing a file in Python?\n",
        "- Closing a file in Python is important for several reasons:\n",
        "\n",
        "- Freeing System Resources\n",
        "When you open a file, the operating system allocates resources like file descriptors. Closing the file releases these resources, preventing resource leaks.\n",
        "\n",
        "- Ensuring Data Integrity\n",
        "Closing a file flushes any data still buffered in memory to disk. If you don't close the file, some data may not be saved properly, leading to data loss or corruption.\n",
        "\n",
        "- Avoiding File Locks\n",
        "On some systems, an open file might be locked, preventing other processes or programs from accessing or modifying it. Closing the file releases such locks.\n",
        "\n",
        "- Preventing Errors\n",
        "Leaving many files open can lead to reaching the limit on the number of open files a process or system can handle, causing errors when trying to open new files.\n"
      ],
      "metadata": {
        "id": "UvaTN6y1FZIU"
      }
    },
    {
      "cell_type": "markdown",
      "source": [
        "20. What is the difference between file.read() and file.readline() in Python?\n",
        "- Difference between file.read() and file.readline() in Python\n",
        "file.read() is used to read the entire content of a file at once (or a specified number of bytes). It returns a single string containing all the data from the current position in the file until the end. This method is useful when you want to process the whole file content in one go. However, if the file is very large, using read() can consume a lot of memory because it loads all the data into memory at once.\n",
        "\n",
        "- On the other hand, file.readline() reads the file one line at a time. Each call to readline() returns the next line in the file as a string, including the newline character at the end. This approach is more memory-efficient when dealing with large files since you process one line at a time instead of loading the entire file into memory.\n",
        "\n",
        "- In summary, file.read() is best when you want the full file content immediately, while file.readline() is better for reading and processing files line by line."
      ],
      "metadata": {
        "id": "MYp7sCiGFZdh"
      }
    },
    {
      "cell_type": "markdown",
      "source": [
        "21. What is the logging module in Python used for?\n",
        "- The logging module in Python is a built-in library used to track events that happen while software runs. It allows developers to record messages about the execution of a program, which helps in:\n",
        "\n",
        "- Debugging: Finding and fixing issues by recording detailed information about the program’s behavior.\n",
        "\n",
        "- Monitoring: Keeping track of application activity and health during normal operation.\n",
        "\n",
        "- Auditing: Maintaining records of important actions or errors for compliance and troubleshooting.\n",
        "\n",
        "- Error Reporting: Capturing error messages and exceptions in a controlled way.\n",
        "\n",
        "- The module supports different logging levels (DEBUG, INFO, WARNING, ERROR, CRITICAL) to categorize the importance of messages. It can write logs to different destinations like the console, files, or even remote servers."
      ],
      "metadata": {
        "id": "6kpl2KPXFZ4y"
      }
    },
    {
      "cell_type": "markdown",
      "source": [
        "22. What is the os module in Python used for in file handling?\n",
        "- The os module in Python provides a way to interact with the operating system, offering many functions to manage files and directories beyond just reading or writing file content. In file handling, the os module helps you:\n",
        "\n",
        "-  Check if files or directories exist (os.path.exists())\n",
        "\n",
        "- Create, rename, or delete files and directories (os.mkdir(), os.rename(), os.remove())\n",
        "\n",
        "- Navigate the file system (os.chdir(), os.getcwd())\n",
        "\n",
        "- Get file properties like size, modification time (os.stat())\n",
        "\n",
        "- Work with file paths in a platform-independent way (os.path.join(), os.path.basename())"
      ],
      "metadata": {
        "id": "dXj0p-g2E3Cj"
      }
    },
    {
      "cell_type": "markdown",
      "source": [
        "23. What are the challenges associated with memory management in Python?\n",
        "- Python’s automatic memory management simplifies development, but it also comes with some challenges, including:\n",
        "\n",
        "- 1.Reference Cycles\n",
        "Python primarily uses reference counting, which cannot handle reference cycles—when two or more objects reference each other, preventing their memory from being freed automatically. Python’s garbage collector tries to detect and clean these cycles, but it adds overhead.\n",
        "\n",
        "- 2.Memory Leaks\n",
        "Even with garbage collection, poorly designed programs can unintentionally keep references to objects no longer needed, causing memory leaks that increase memory usage over time.\n",
        "\n",
        "- 3.Fragmentation\n",
        "Frequent allocation and deallocation of memory can lead to fragmentation, where free memory is scattered, making it hard to allocate large contiguous blocks efficiently.\n",
        "\n",
        "- 4.Performance Overhead\n",
        "Garbage collection and reference counting add some performance cost. For programs with very high memory allocation rates, this can affect speed.\n",
        "\n",
        "- 5.Large Objects and Data\n",
        "Managing very large objects or datasets (e.g., big lists, images, or arrays) can consume significant memory, and inefficient handling can cause excessive memory usage.\n",
        "\n",
        "- 6.Platform Dependency\n",
        "Some memory management details can behave differently across platforms or Python implementations, leading to unpredictable memory behavior."
      ],
      "metadata": {
        "id": "Vlv0I0VaFAkR"
      }
    },
    {
      "cell_type": "markdown",
      "source": [
        "24. How do you raise an exception manually in Python?\n",
        "- In Python, you can manually raise an exception using the raise statement. This allows you to trigger an error intentionally when a certain condition occurs in your code.\n",
        "- ExceptionType is the type of exception you want to raise (e.g., ValueError, TypeError, or even a custom exception).\n",
        "\n",
        "\n"
      ],
      "metadata": {
        "id": "yZnEY0WKFBFI"
      }
    },
    {
      "cell_type": "code",
      "source": [
        "def divide(a, b):\n",
        "    if b == 0:\n",
        "        raise ValueError(\"Cannot divide by zero!\")\n",
        "    return a / b\n",
        "\n",
        "try:\n",
        "    result = divide(10, 0)\n",
        "except ValueError as e:\n",
        "    print(f\"Caught an error: {e}\")\n"
      ],
      "metadata": {
        "colab": {
          "base_uri": "https://localhost:8080/"
        },
        "id": "k9wSf9P-9V7c",
        "outputId": "c41991f8-f10c-49b9-cfc6-cf2a693b50fc"
      },
      "execution_count": 4,
      "outputs": [
        {
          "output_type": "stream",
          "name": "stdout",
          "text": [
            "Caught an error: Cannot divide by zero!\n"
          ]
        }
      ]
    },
    {
      "cell_type": "markdown",
      "source": [
        "25. Why is it important to use multithreading in certain applications?\n",
        "- Multithreading is important in Python and other programming languages for improving the performance and responsiveness of applications—especially when dealing with tasks that are I/O-bound or require simultaneous operations.\n",
        "- Key Reasons to Use Multithreading:\n",
        "- 1.Improved Responsiveness\n",
        "In applications like GUIs or web servers, multithreading allows background tasks (e.g. downloading, logging) to run without freezing the main program.\n",
        "\n",
        "- 2.Efficient I/O Handling\n",
        "Tasks like reading files, making network requests, or waiting for user input spend a lot of time idle. Threads can continue running other tasks while one thread waits.\n",
        "\n",
        "- 3.Resource Sharing\n",
        "Threads in a program share the same memory space, which makes it easy for them to share data and communicate efficiently.\n",
        "\n",
        "- 4.Concurrent Execution\n",
        "Threads can execute concurrently (though not always in parallel in CPython due to the Global Interpreter Lock), allowing smoother multitasking for tasks that don’t need full CPU usage.\n",
        "\n",
        "- 5.Faster Performance in Some Cases\n",
        "For I/O-bound programs, multithreading can improve speed because threads can operate while others wait on I/O.\n",
        "- When Not to Use Multithreading:\n",
        "For CPU-bound tasks, use multiprocessing instead, because of Python’s Global Interpreter Lock (GIL), which limits true parallel execution of threads."
      ],
      "metadata": {
        "id": "HnMJgUiPFOg6"
      }
    },
    {
      "cell_type": "markdown",
      "source": [
        "1. How can you open a file for writing in Python and write a string to it?"
      ],
      "metadata": {
        "id": "dbO-d6CoFh7j"
      }
    },
    {
      "cell_type": "code",
      "source": [
        "with open('example.txt', 'w') as file:\n",
        "    file.write(\"Hello, this is a abcd written to the file.\")\n",
        "\n",
        "print(\"abcd written successfully.\")\n"
      ],
      "metadata": {
        "colab": {
          "base_uri": "https://localhost:8080/"
        },
        "id": "vTyrnOQHRAGo",
        "outputId": "e46e2cd9-339b-442b-a7ad-840a66cdafb9"
      },
      "execution_count": null,
      "outputs": [
        {
          "output_type": "stream",
          "name": "stdout",
          "text": [
            "abcd written successfully.\n"
          ]
        }
      ]
    },
    {
      "cell_type": "markdown",
      "source": [
        "2. Write a Python program to read the contents of a file and print each line?"
      ],
      "metadata": {
        "id": "MT--cuCaIE13"
      }
    },
    {
      "cell_type": "code",
      "source": [
        "def read_and_print_lines(file_path):\n",
        "    try:\n",
        "        with open(file_path, 'r') as file:\n",
        "            for line in file:\n",
        "                print(line.strip())\n",
        "    except FileNotFoundError:\n",
        "        print(f\"Error: File '{file_path}' not found.\")\n",
        "    except Exception as e:\n",
        "        print(f\"An error occurred: {e}\")\n",
        "\n",
        "file_path = 'example.txt'\n",
        "read_and_print_lines(file_path)\n"
      ],
      "metadata": {
        "colab": {
          "base_uri": "https://localhost:8080/"
        },
        "id": "z9Jm7GzlRefe",
        "outputId": "89c944ca-6d1e-47bb-e18c-3d51b4df3ac5"
      },
      "execution_count": null,
      "outputs": [
        {
          "output_type": "stream",
          "name": "stdout",
          "text": [
            "Hello, this is a abcd written to the file.\n"
          ]
        }
      ]
    },
    {
      "cell_type": "markdown",
      "source": [
        "3. How would you handle a case where the file doesn't exist while trying to open it for reading?"
      ],
      "metadata": {
        "id": "EejlRlq6IJCU"
      }
    },
    {
      "cell_type": "code",
      "source": [
        "file_path = 'non_existent_file.txt'\n",
        "\n",
        "try:\n",
        "    with open(file_path, 'r') as file:\n",
        "        content = file.read()\n",
        "        print(content)\n",
        "except FileNotFoundError:\n",
        "    print(f\"Error: The file '{file_path}' does not exist.\")\n"
      ],
      "metadata": {
        "colab": {
          "base_uri": "https://localhost:8080/"
        },
        "id": "PhX-7bB1S--G",
        "outputId": "53c44c94-bf6f-428a-a93a-365a84cab519"
      },
      "execution_count": null,
      "outputs": [
        {
          "output_type": "stream",
          "name": "stdout",
          "text": [
            "Error: The file 'non_existent_file.txt' does not exist.\n"
          ]
        }
      ]
    },
    {
      "cell_type": "markdown",
      "source": [
        "4. Write a Python script that reads from one file and writes its content to another file?"
      ],
      "metadata": {
        "id": "eETyx-tQINUE"
      }
    },
    {
      "cell_type": "code",
      "source": [
        "source_file = 'source.txt'\n",
        "destination_file = 'destination.txt'\n",
        "\n",
        "try:\n",
        "    with open(source_file, 'r') as src:\n",
        "        content = src.read()\n",
        "\n",
        "    with open(destination_file, 'w') as dest:\n",
        "        dest.write(content)\n",
        "\n",
        "    print(\"Content copied successfully!\")\n",
        "\n",
        "except FileNotFoundError:\n",
        "    print(f\"Error: '{source_file}' not found.\")\n",
        "except Exception as e:\n",
        "    print(f\"An error occurred: {e}\")\n"
      ],
      "metadata": {
        "colab": {
          "base_uri": "https://localhost:8080/"
        },
        "id": "hQEnZAIvWVne",
        "outputId": "47d265ed-6de4-4e76-9bd6-350403417d82"
      },
      "execution_count": null,
      "outputs": [
        {
          "output_type": "stream",
          "name": "stdout",
          "text": [
            "Error: 'source.txt' not found.\n"
          ]
        }
      ]
    },
    {
      "cell_type": "code",
      "source": [
        "source_file = 'source.txt'\n",
        "destination_file = 'destination.txt'\n",
        "\n",
        "try:\n",
        "    with open(source_file, 'r') as src:\n",
        "        content = src.read()\n",
        "\n",
        "    with open(destination_file, 'w') as dest:\n",
        "        dest.write(content)\n",
        "\n",
        "    print(\"Content copied successfully!\")\n",
        "\n",
        "except FileNotFoundError:\n",
        "    print(f\"Error: '{source_file}' not found.\")\n",
        "except Exception as e:\n",
        "    print(f\"An error occurred: {e}\")\n"
      ],
      "metadata": {
        "colab": {
          "base_uri": "https://localhost:8080/"
        },
        "id": "lJhr9axLWpiN",
        "outputId": "ee8584b6-6ae5-4b20-e370-7af8ac8bb548"
      },
      "execution_count": null,
      "outputs": [
        {
          "output_type": "stream",
          "name": "stdout",
          "text": [
            "Error: 'source.txt' not found.\n"
          ]
        }
      ]
    },
    {
      "cell_type": "markdown",
      "source": [
        "5. How would you catch and handle division by zero error in Python?"
      ],
      "metadata": {
        "id": "kS4lJCTFIRmV"
      }
    },
    {
      "cell_type": "code",
      "source": [
        "try:\n",
        "    numerator = 10\n",
        "    denominator = 0\n",
        "    result = numerator / denominator\n",
        "    print(\"Result:\", result)\n",
        "\n",
        "except ZeroDivisionError:\n",
        "    print(\"Error: Cannot divide by zero.\")\n"
      ],
      "metadata": {
        "colab": {
          "base_uri": "https://localhost:8080/"
        },
        "id": "R2PjjbkXXdL-",
        "outputId": "8f05bbb6-f2a4-479c-e716-6905566ff7cd"
      },
      "execution_count": null,
      "outputs": [
        {
          "output_type": "stream",
          "name": "stdout",
          "text": [
            "Error: Cannot divide by zero.\n"
          ]
        }
      ]
    },
    {
      "cell_type": "markdown",
      "source": [
        "6. Write a Python program that logs an error message to a log file when a division by zero exception occurs?"
      ],
      "metadata": {
        "id": "qASrjfCkIkD_"
      }
    },
    {
      "cell_type": "code",
      "source": [
        "import logging\n",
        "\n",
        "logging.basicConfig(\n",
        "    filename='error.log',\n",
        "    level=logging.ERROR,\n",
        "    format='%(asctime)s - %(levelname)s - %(message)s'\n",
        ")\n",
        "\n",
        "def divide(a, b):\n",
        "    try:\n",
        "        return a / b\n",
        "    except ZeroDivisionError:\n",
        "        logging.error(\"Attempted to divide by zero: %d / %d\", a, b)\n",
        "        print(\"Cannot divide by zero.\")\n",
        "\n",
        "result = divide(10, 0)\n"
      ],
      "metadata": {
        "colab": {
          "base_uri": "https://localhost:8080/"
        },
        "id": "gEqet-1wXvuw",
        "outputId": "98469283-03f5-492f-f900-ee1b305994ec"
      },
      "execution_count": null,
      "outputs": [
        {
          "output_type": "stream",
          "name": "stderr",
          "text": [
            "ERROR:root:Attempted to divide by zero: 10 / 0\n"
          ]
        },
        {
          "output_type": "stream",
          "name": "stdout",
          "text": [
            "Cannot divide by zero.\n"
          ]
        }
      ]
    },
    {
      "cell_type": "markdown",
      "source": [
        "7. How do you log information at different levels (INFO, ERROR, WARNING) in Python using the logging module?"
      ],
      "metadata": {
        "id": "i-805OV1IpD7"
      }
    },
    {
      "cell_type": "code",
      "source": [
        "import logging\n",
        "logging.basicConfig(\n",
        "    filename='app.log',\n",
        "    level=logging.DEBUG,\n",
        "    format='%(asctime)s - %(levelname)s - %(message)s'\n",
        ")\n",
        "logging.debug(\"This is a DEBUG message - useful for debugging.\")\n",
        "logging.info(\"This is an INFO message - general information.\")\n",
        "logging.warning(\"This is a WARNING - something unexpected happened.\")\n",
        "logging.error(\"This is an ERROR - a problem occurred.\")\n",
        "logging.critical(\"This is a CRITICAL error - serious failure.\")\n"
      ],
      "metadata": {
        "colab": {
          "base_uri": "https://localhost:8080/"
        },
        "id": "q_lh5mxOYKhJ",
        "outputId": "f967c4b5-3a49-4876-acc8-9a9daca7f0a0"
      },
      "execution_count": null,
      "outputs": [
        {
          "output_type": "stream",
          "name": "stderr",
          "text": [
            "WARNING:root:This is a WARNING - something unexpected happened.\n",
            "ERROR:root:This is an ERROR - a problem occurred.\n",
            "CRITICAL:root:This is a CRITICAL error - serious failure.\n"
          ]
        }
      ]
    },
    {
      "cell_type": "markdown",
      "source": [
        "8. Write a program to handle a file opening error using exception handling?"
      ],
      "metadata": {
        "id": "HX4MrF58IupR"
      }
    },
    {
      "cell_type": "code",
      "source": [
        "try:\n",
        "    with open('example.txt', 'r') as file:\n",
        "        content = file.read()\n",
        "        print(\"File content:\")\n",
        "        print(content)\n",
        "\n",
        "except FileNotFoundError:\n",
        "    print(\"Error: The file 'example.txt' was not found.\")\n",
        "\n",
        "except Exception as e:\n",
        "    print(f\"An unexpected error occurred: {e}\")\n",
        "\n"
      ],
      "metadata": {
        "colab": {
          "base_uri": "https://localhost:8080/"
        },
        "id": "y70XaIHoYcqN",
        "outputId": "8142694f-caaf-4fdf-8193-e298167b64a1"
      },
      "execution_count": 52,
      "outputs": [
        {
          "output_type": "stream",
          "name": "stdout",
          "text": [
            "Error: The file 'example.txt' was not found.\n"
          ]
        }
      ]
    },
    {
      "cell_type": "markdown",
      "source": [
        "9. How can you read a file line by line and store its content in a list in Python?\n",
        "- Method 1: Using readlines()\n",
        "-  Method 2: Using a for loop\n",
        "- Method 3: Reading lines and stripping newline charactersfile_path = r'C:\\Users\\Avinash\\Downloads\\example.txt'\n",
        "\n",
        "try:\n",
        "    with open(file_path, 'r') as file:\n",
        "        lines = [line.strip() for line in file]\n",
        "    print(\"Lines with newline characters removed:\")\n",
        "    print(lines)\n",
        "except FileNotFoundError:\n",
        "    print(f\"Error: The file at path '{file_path}' was not found.\")\n"
      ],
      "metadata": {
        "id": "wnaNFhdiIzne"
      }
    },
    {
      "cell_type": "code",
      "source": [
        "file_path = r'C:\\Users\\Avinash\\Downloads\\example.txt'\n",
        "\n",
        "try:\n",
        "    with open(file_path, 'r') as file:\n",
        "        lines = file.readlines()\n",
        "    print(\"Lines read using readlines():\")\n",
        "    print(lines)\n",
        "except FileNotFoundError:\n",
        "    print(f\"Error: The file at path '{file_path}' was not found.\")\n"
      ],
      "metadata": {
        "colab": {
          "base_uri": "https://localhost:8080/"
        },
        "id": "jpvFbS4UhyU5",
        "outputId": "f5cfc738-a998-4bca-abd7-cfa25123dbf2"
      },
      "execution_count": 53,
      "outputs": [
        {
          "output_type": "stream",
          "name": "stdout",
          "text": [
            "Error: The file at path 'C:\\Users\\Avinash\\Downloads\\example.txt' was not found.\n"
          ]
        }
      ]
    },
    {
      "cell_type": "code",
      "source": [
        "file_path = r'C:\\Users\\Avinash\\Downloads\\example.txt'\n",
        "\n",
        "lines = []\n",
        "try:\n",
        "    with open(file_path, 'r') as file:\n",
        "        for line in file:\n",
        "            lines.append(line)\n",
        "    print(\"Lines read using for loop:\")\n",
        "    print(lines)\n",
        "except FileNotFoundError:\n",
        "    print(f\"Error: The file at path '{file_path}' was not found.\")\n"
      ],
      "metadata": {
        "colab": {
          "base_uri": "https://localhost:8080/"
        },
        "id": "4iLk6jsu0nIp",
        "outputId": "9be086a6-944f-41ec-9995-162655919a16"
      },
      "execution_count": 54,
      "outputs": [
        {
          "output_type": "stream",
          "name": "stdout",
          "text": [
            "Error: The file at path 'C:\\Users\\Avinash\\Downloads\\example.txt' was not found.\n"
          ]
        }
      ]
    },
    {
      "cell_type": "markdown",
      "source": [
        "10. How can you append data to an existing file in Python?"
      ],
      "metadata": {
        "id": "u5m9Tn81JyKo"
      }
    },
    {
      "cell_type": "code",
      "source": [
        "file_path = r'C:\\Users\\Avinash\\Downloads\\example.txt'\n",
        "\n",
        "try:\n",
        "    with open(file_path, 'a') as file:\n",
        "        file.write(\"\\nThis is the new line being appended.\")\n",
        "    print(\"Data appended successfully.\")\n",
        "except FileNotFoundError:\n",
        "    print(f\"Error: The file at path '{file_path}' was not found.\")\n",
        "except Exception as e:\n",
        "    print(f\"An unexpected error occurred: {e}\")\n"
      ],
      "metadata": {
        "colab": {
          "base_uri": "https://localhost:8080/"
        },
        "id": "FzdnmOu_08rT",
        "outputId": "5832255b-39f2-47e9-e9dc-e4392747008f"
      },
      "execution_count": 55,
      "outputs": [
        {
          "output_type": "stream",
          "name": "stdout",
          "text": [
            "Data appended successfully.\n"
          ]
        }
      ]
    },
    {
      "cell_type": "markdown",
      "source": [
        "11. Write a Python program that uses a try-except block to handle an error when attempting to access a\n",
        "dictionary key that doesn't exist?"
      ],
      "metadata": {
        "id": "ZoyLx9GLJylC"
      }
    },
    {
      "cell_type": "code",
      "source": [
        "student_scores = {\n",
        "    \"Mansi\": 85,\n",
        "    \"Abhi\": 92,\n",
        "    \"Neha\": 78\n",
        "}\n",
        "\n",
        "# Key to look for\n",
        "key_to_access = \"David\"\n",
        "\n",
        "try:\n",
        "    # Attempt to access a key that might not exist\n",
        "    score = student_scores[key_to_access]\n",
        "    print(f\"{key_to_access}'s score is {score}\")\n",
        "except KeyError:\n",
        "    print(f\"Error: '{key_to_access}' key not found in the dictionary.\")\n"
      ],
      "metadata": {
        "colab": {
          "base_uri": "https://localhost:8080/"
        },
        "id": "7K4r8OgN1H1r",
        "outputId": "bb919280-7dac-45ee-e9c2-c26f71386d0c"
      },
      "execution_count": 56,
      "outputs": [
        {
          "output_type": "stream",
          "name": "stdout",
          "text": [
            "Error: 'David' key not found in the dictionary.\n"
          ]
        }
      ]
    },
    {
      "cell_type": "markdown",
      "source": [
        "12. Write a program that demonstrates using multiple except blocks to handle different types of exceptions?"
      ],
      "metadata": {
        "id": "rcVjjwAEJy_A"
      }
    },
    {
      "cell_type": "code",
      "source": [
        "try:\n",
        "    num1 = int(input(\"Enter a number:12 \"))\n",
        "    num2 = int(input(\"Enter another number:24 \"))\n",
        "\n",
        "    result = num1 / num2\n",
        "    print(f\"The result of division is: {result}\")\n",
        "\n",
        "except ValueError:\n",
        "    print(\"Error: Please enter valid integers.\")\n",
        "\n",
        "except ZeroDivisionError:\n",
        "    print(\"Error: Division by zero is not allowed.\")\n",
        "\n",
        "except Exception as e:\n",
        "    print(f\"An unexpected error occurred: {e}\")\n"
      ],
      "metadata": {
        "colab": {
          "base_uri": "https://localhost:8080/"
        },
        "id": "qf-Le2U41VmR",
        "outputId": "57ed4094-ea5d-4d36-d251-65cc05ea537b"
      },
      "execution_count": 57,
      "outputs": [
        {
          "output_type": "stream",
          "name": "stdout",
          "text": [
            "Enter a number:12 24\n",
            "Enter another number:24 32\n",
            "The result of division is: 0.75\n"
          ]
        }
      ]
    },
    {
      "cell_type": "markdown",
      "source": [
        "13. How would you check if a file exists before attempting to read it in Python?\n",
        "- Method 1: Using os.path.exists()\n",
        "- Method 2: Using pathlib (recommended for modern Python)\n",
        "\n"
      ],
      "metadata": {
        "id": "6SpozcvxJzX-"
      }
    },
    {
      "cell_type": "code",
      "source": [
        "import os\n",
        "\n",
        "file_path = r'C:\\Users\\Avinash\\Downloads\\example.txt'\n",
        "\n",
        "if os.path.exists(file_path):\n",
        "    with open(file_path, 'r') as file:\n",
        "        content = file.read()\n",
        "        print(\"File content:\")\n",
        "        print(content)\n",
        "else:\n",
        "    print(\"Error: File does not exist.\")\n"
      ],
      "metadata": {
        "colab": {
          "base_uri": "https://localhost:8080/"
        },
        "id": "lfOA-Vc81rmZ",
        "outputId": "fe91de54-ea01-40a9-d3c8-8ae256991981"
      },
      "execution_count": 58,
      "outputs": [
        {
          "output_type": "stream",
          "name": "stdout",
          "text": [
            "File content:\n",
            "\n",
            "This is the new line being appended.\n"
          ]
        }
      ]
    },
    {
      "cell_type": "code",
      "source": [
        "from pathlib import Path\n",
        "\n",
        "file_path = Path(r'C:\\Users\\Avinash\\Downloads\\example.txt')\n",
        "\n",
        "if file_path.exists():\n",
        "    with file_path.open('r') as file:\n",
        "        content = file.read()\n",
        "        print(\"File content:\")\n",
        "        print(content)\n",
        "else:\n",
        "    print(\"Error: File does not exist.\")\n"
      ],
      "metadata": {
        "colab": {
          "base_uri": "https://localhost:8080/"
        },
        "id": "-f4_467T1z1u",
        "outputId": "31b6be0f-be0d-4546-efdb-54cf21285e1e"
      },
      "execution_count": 59,
      "outputs": [
        {
          "output_type": "stream",
          "name": "stdout",
          "text": [
            "File content:\n",
            "\n",
            "This is the new line being appended.\n"
          ]
        }
      ]
    },
    {
      "cell_type": "markdown",
      "source": [
        "14. Write a program that uses the logging module to log both informational and error messages?"
      ],
      "metadata": {
        "id": "_JxwLYkMKZAv"
      }
    },
    {
      "cell_type": "code",
      "source": [
        "import logging\n",
        "\n",
        "logging.basicConfig(\n",
        "    filename='app.log',\n",
        "    level=logging.INFO,\n",
        "    format='%(asctime)s - %(levelname)s - %(message)s'\n",
        ")\n",
        "\n",
        "logging.info(\"The program started successfully.\")\n",
        "\n",
        "try:\n",
        "    a = 10\n",
        "    b = 0\n",
        "    result = a / b\n",
        "\n",
        "except ZeroDivisionError as e:\n",
        "    logging.error(f\"ZeroDivisionError occurred: {e}\")\n",
        "\n",
        "except Exception as e:\n",
        "    logging.error(f\"An unexpected error occurred: {e}\")\n",
        "\n",
        "else:\n",
        "    logging.info(f\"The result is: {result}\")\n",
        "\n",
        "finally:\n",
        "    logging.info(\"The program ended.\")\n"
      ],
      "metadata": {
        "colab": {
          "base_uri": "https://localhost:8080/"
        },
        "id": "p5W3o2jv17GU",
        "outputId": "dc1043bf-3a81-4d34-8752-27cc115535be"
      },
      "execution_count": 60,
      "outputs": [
        {
          "output_type": "stream",
          "name": "stderr",
          "text": [
            "ERROR:root:ZeroDivisionError occurred: division by zero\n"
          ]
        }
      ]
    },
    {
      "cell_type": "markdown",
      "source": [
        "15. Write a Python program that prints the content of a file and handles the case when the file is empty?"
      ],
      "metadata": {
        "id": "fDmkpDBYKdVN"
      }
    },
    {
      "cell_type": "code",
      "source": [
        "file_path = r'C:\\Users\\Avinash\\Downloads\\example.txt'\n",
        "\n",
        "try:\n",
        "    with open(file_path, 'r') as file:\n",
        "        content = file.read()\n",
        "        if content:\n",
        "            print(\"File content:\")\n",
        "            print(content)\n",
        "        else:\n",
        "            print(\"The file is empty.\")\n",
        "except FileNotFoundError:\n",
        "    print(f\"Error: The file at path '{file_path}' was not found.\")\n",
        "except Exception as e:\n",
        "    print(f\"An unexpected error occurred: {e}\")\n"
      ],
      "metadata": {
        "colab": {
          "base_uri": "https://localhost:8080/"
        },
        "id": "rFjnR5Uc2K2W",
        "outputId": "cf71a918-fa44-45f5-c644-3de85ae64fa7"
      },
      "execution_count": 61,
      "outputs": [
        {
          "output_type": "stream",
          "name": "stdout",
          "text": [
            "File content:\n",
            "\n",
            "This is the new line being appended.\n"
          ]
        }
      ]
    },
    {
      "cell_type": "markdown",
      "source": [
        "16. Demonstrate how to use memory profiling to check the memory usage of a small program?"
      ],
      "metadata": {
        "id": "GWwokxOzKn2n"
      }
    },
    {
      "cell_type": "code",
      "source": [
        "from memory_profiler import profile\n",
        "\n",
        "@profile\n",
        "def my_function():\n",
        "    a = [i for i in range(100000)]\n",
        "    b = [i * 2 for i in a]\n",
        "    del a\n",
        "    return b\n",
        "\n",
        "if __name__ == '__main__':\n",
        "    my_function()"
      ],
      "metadata": {
        "id": "_ABOMUfk-AKB"
      },
      "execution_count": null,
      "outputs": []
    },
    {
      "cell_type": "markdown",
      "source": [
        "17. Write a Python program to create and write a list of numbers to a file, one number per line?"
      ],
      "metadata": {
        "id": "W-UfmCpDKtFq"
      }
    },
    {
      "cell_type": "code",
      "source": [
        "file_path = r'C:\\Users\\Avinash\\Downloads\\numbers.txt'\n",
        "\n",
        "numbers = [10, 20, 30, 40, 50]\n",
        "\n",
        "try:\n",
        "    with open(file_path, 'w') as file:\n",
        "        for number in numbers:\n",
        "            file.write(str(number) + '\\n')\n",
        "    print(f\"Numbers have been written to {file_path}\")\n",
        "except Exception as e:\n",
        "    print(f\"An error occurred: {e}\")\n"
      ],
      "metadata": {
        "colab": {
          "base_uri": "https://localhost:8080/"
        },
        "id": "9_IPwBy03Jh8",
        "outputId": "e2173408-da84-4389-cba7-13fc892e3a34"
      },
      "execution_count": 64,
      "outputs": [
        {
          "output_type": "stream",
          "name": "stdout",
          "text": [
            "Numbers have been written to C:\\Users\\Avinash\\Downloads\\numbers.txt\n"
          ]
        }
      ]
    },
    {
      "cell_type": "markdown",
      "source": [
        "18. How would you implement a basic logging setup that logs to a file with rotation after 1MB?\n"
      ],
      "metadata": {
        "id": "bdKW6EtdKxci"
      }
    },
    {
      "cell_type": "code",
      "source": [
        "import logging\n",
        "from logging.handlers import RotatingFileHandler\n",
        "\n",
        "logger = logging.getLogger('my_logger')\n",
        "logger.setLevel(logging.INFO)\n",
        "\n",
        "handler = RotatingFileHandler(\n",
        "    'app.log', maxBytes=1*1024*1024, backupCount=5\n",
        ")\n",
        "\n",
        "formatter = logging.Formatter('%(asctime)s - %(levelname)s - %(message)s')\n",
        "handler.setFormatter(formatter)\n",
        "\n",
        "logger.addHandler(handler)\n",
        "\n",
        "logger.info(\"This is an info message.\")\n",
        "logger.error(\"This is an error message.\")\n"
      ],
      "metadata": {
        "colab": {
          "base_uri": "https://localhost:8080/"
        },
        "id": "jHOnC7xT3Tn2",
        "outputId": "48a500cd-61bc-4a03-ea51-6fb716c6661b"
      },
      "execution_count": 65,
      "outputs": [
        {
          "output_type": "stream",
          "name": "stderr",
          "text": [
            "INFO:my_logger:This is an info message.\n",
            "ERROR:my_logger:This is an error message.\n"
          ]
        }
      ]
    },
    {
      "cell_type": "markdown",
      "source": [
        "19. Write a program that handles both IndexError and KeyError using a try-except block?"
      ],
      "metadata": {
        "id": "7veWnl-oLamP"
      }
    },
    {
      "cell_type": "code",
      "source": [
        "my_list = [1, 2, 3]\n",
        "my_dict = {\"a\": 10, \"b\": 20}\n",
        "\n",
        "try:\n",
        "    print(\"List element at index 5:\", my_list[5])\n",
        "    print(\"Value for key 'c':\", my_dict[\"c\"])\n",
        "\n",
        "except IndexError:\n",
        "    print(\"Error: Tried to access an invalid index in the list.\")\n",
        "\n",
        "except KeyError:\n",
        "    print(\"Error: Tried to access a key that does not exist in the dictionary.\")\n"
      ],
      "metadata": {
        "colab": {
          "base_uri": "https://localhost:8080/"
        },
        "id": "3Wmx6z-73j4V",
        "outputId": "7d932aac-48ef-464c-dfb5-cd363c92db25"
      },
      "execution_count": 66,
      "outputs": [
        {
          "output_type": "stream",
          "name": "stdout",
          "text": [
            "Error: Tried to access an invalid index in the list.\n"
          ]
        }
      ]
    },
    {
      "cell_type": "markdown",
      "source": [
        "20. How would you open a file and read its contents using a context manager in Python?\n"
      ],
      "metadata": {
        "id": "Y-6jLrVaLhBp"
      }
    },
    {
      "cell_type": "code",
      "source": [
        "file_path = r'C:\\Users\\Avinash\\Downloads\\example.txt'\n",
        "\n",
        "try:\n",
        "    with open(file_path, 'r') as file:\n",
        "        content = file.read()\n",
        "        print(\"File content:\")\n",
        "        print(content)\n",
        "except FileNotFoundError:\n",
        "    print(f\"Error: The file at path '{file_path}' was not found.\")\n",
        "except Exception as e:\n",
        "    print(f\"An unexpected error occurred: {e}\")\n"
      ],
      "metadata": {
        "colab": {
          "base_uri": "https://localhost:8080/"
        },
        "id": "ObpIB6rh30Jd",
        "outputId": "7f359351-0a22-43eb-b42a-53dcc38d680d"
      },
      "execution_count": 67,
      "outputs": [
        {
          "output_type": "stream",
          "name": "stdout",
          "text": [
            "File content:\n",
            "\n",
            "This is the new line being appended.\n"
          ]
        }
      ]
    },
    {
      "cell_type": "markdown",
      "source": [
        "21. Write a Python program that reads a file and prints the number of occurrences of a specific word?"
      ],
      "metadata": {
        "id": "z_8J0KfoL-nX"
      }
    },
    {
      "cell_type": "code",
      "source": [
        "import re\n",
        "\n",
        "def count_word_occurrences(file_path, target_word):\n",
        "    try:\n",
        "        with open(file_path, 'r') as file:\n",
        "            content = file.read().lower()\n",
        "            words = re.findall(r'\\b' + re.escape(target_word.lower()) + r'\\b', content)\n",
        "            print(f\"The word '{target_word}' occurred {len(words)} times in the file.\")\n",
        "    except FileNotFoundError:\n",
        "        print(f\"Error: File '{file_path}' not found.\")\n",
        "    except Exception as e:\n",
        "        print(f\"An error occurred: {e}\")\n",
        "\n",
        "\n",
        "file_path = 'sample.txt'\n",
        "target_word = 'Mansi'\n",
        "count_word_occurrences(file_path, target_word)\n"
      ],
      "metadata": {
        "colab": {
          "base_uri": "https://localhost:8080/"
        },
        "id": "eYM-s03cOhyH",
        "outputId": "b60de08e-e3e8-4153-c809-5fc09767e9a2"
      },
      "execution_count": null,
      "outputs": [
        {
          "output_type": "stream",
          "name": "stdout",
          "text": [
            "Error: File 'sample.txt' not found.\n"
          ]
        }
      ]
    },
    {
      "cell_type": "markdown",
      "source": [
        "22. How can you check if a file is empty before attempting to read its contents?\n",
        "- file empty is checked using os.path.getsize()"
      ],
      "metadata": {
        "id": "-LNiQFP_MCog"
      }
    },
    {
      "cell_type": "code",
      "source": [
        "import os\n",
        "\n",
        "def is_file_empty(file_path):\n",
        "    return os.path.getsize(file_path) == 0\n",
        "\n",
        "file_path = 'sample.txt'\n",
        "if os.path.exists(file_path):\n",
        "    if is_file_empty(file_path):\n",
        "        print(\"The file is empty.\")\n",
        "    else:\n",
        "        print(\"The file is not empty.\")\n",
        "else:\n",
        "    print(\"The file does not exist.\")\n"
      ],
      "metadata": {
        "colab": {
          "base_uri": "https://localhost:8080/"
        },
        "id": "b1Xt4TZ1NK5W",
        "outputId": "403efe61-36c3-4aac-90f3-52d7558db348"
      },
      "execution_count": null,
      "outputs": [
        {
          "output_type": "stream",
          "name": "stdout",
          "text": [
            "The file does not exist.\n"
          ]
        }
      ]
    },
    {
      "cell_type": "markdown",
      "source": [
        "23. Write a Python program that writes to a log file when an error occurs during file handling?"
      ],
      "metadata": {
        "id": "Fwh98KCAMGLz"
      }
    },
    {
      "cell_type": "code",
      "source": [
        "import logging\n",
        "\n",
        "logging.basicConfig(filename='error_log.txt',\n",
        "                    level=logging.ERROR,\n",
        "                    format='%(asctime)s - %(levelname)s - %(message)s')\n",
        "\n",
        "def read_file(file_path):\n",
        "    try:\n",
        "        with open(file_path, 'r') as file:\n",
        "            content = file.read()\n",
        "            print(\"File content:\")\n",
        "            print(content)\n",
        "    except Exception as e:\n",
        "        logging.error(\"Error occurred while reading the file\", exc_info=True)\n",
        "        print(\"An error occurred. Please check error_log.txt for details.\")\n",
        "\n",
        "file_path = 'sample.txt'\n",
        "read_file(file_path)\n"
      ],
      "metadata": {
        "colab": {
          "base_uri": "https://localhost:8080/"
        },
        "id": "bF-MK70qMdkT",
        "outputId": "e2bb66c0-72f7-49c6-e94f-38db55d63e9b"
      },
      "execution_count": null,
      "outputs": [
        {
          "output_type": "stream",
          "name": "stderr",
          "text": [
            "ERROR:root:Error occurred while reading the file\n",
            "Traceback (most recent call last):\n",
            "  File \"<ipython-input-1-86992a3b13cf>\", line 9, in read_file\n",
            "    with open(file_path, 'r') as file:\n",
            "         ^^^^^^^^^^^^^^^^^^^^\n",
            "FileNotFoundError: [Errno 2] No such file or directory: 'sample.txt'\n"
          ]
        },
        {
          "output_type": "stream",
          "name": "stdout",
          "text": [
            "An error occurred. Please check error_log.txt for details.\n"
          ]
        }
      ]
    }
  ]
}